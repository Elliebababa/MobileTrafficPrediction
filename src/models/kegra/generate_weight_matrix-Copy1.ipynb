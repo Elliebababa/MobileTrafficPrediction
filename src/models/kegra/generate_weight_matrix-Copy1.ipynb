{
 "cells": [
  {
   "cell_type": "code",
   "execution_count": 1,
   "metadata": {},
   "outputs": [
    {
     "name": "stderr",
     "output_type": "stream",
     "text": [
      "/home/hyf/anaconda3/lib/python3.6/site-packages/h5py/__init__.py:36: FutureWarning: Conversion of the second argument of issubdtype from `float` to `np.floating` is deprecated. In future, it will be treated as `np.float64 == np.dtype(float).type`.\n",
      "  from ._conv import register_converters as _register_converters\n"
     ]
    }
   ],
   "source": [
    "import h5py\n",
    "import numpy as np\n",
    "from buildGraph import *"
   ]
  },
  {
   "cell_type": "code",
   "execution_count": 2,
   "metadata": {},
   "outputs": [],
   "source": [
    "import buildGraph"
   ]
  },
  {
   "cell_type": "code",
   "execution_count": 4,
   "metadata": {},
   "outputs": [],
   "source": [
    "file_ = '../../../data/processed/Nov_internet_data_t10_s100100.h5'"
   ]
  },
  {
   "cell_type": "code",
   "execution_count": 5,
   "metadata": {},
   "outputs": [],
   "source": [
    "f = h5py.File(file_,'r')"
   ]
  },
  {
   "cell_type": "code",
   "execution_count": 6,
   "metadata": {},
   "outputs": [],
   "source": [
    "data = f['data'].value"
   ]
  },
  {
   "cell_type": "code",
   "execution_count": 7,
   "metadata": {},
   "outputs": [],
   "source": [
    "data = np.vstack(data)"
   ]
  },
  {
   "cell_type": "code",
   "execution_count": 8,
   "metadata": {},
   "outputs": [
    {
     "data": {
      "text/plain": [
       "(4320, 100, 100)"
      ]
     },
     "execution_count": 8,
     "metadata": {},
     "output_type": "execute_result"
    }
   ],
   "source": [
    "data.shape"
   ]
  },
  {
   "cell_type": "code",
   "execution_count": 9,
   "metadata": {},
   "outputs": [],
   "source": [
    "data_4070 = data[:1080,40:70,40:70]"
   ]
  },
  {
   "cell_type": "code",
   "execution_count": 10,
   "metadata": {},
   "outputs": [
    {
     "data": {
      "text/plain": [
       "(1080, 30, 30)"
      ]
     },
     "execution_count": 10,
     "metadata": {},
     "output_type": "execute_result"
    }
   ],
   "source": [
    "data_4070.shape"
   ]
  },
  {
   "cell_type": "code",
   "execution_count": null,
   "metadata": {},
   "outputs": [
    {
     "name": "stdout",
     "output_type": "stream",
     "text": [
      "generating matrix...\n",
      "grid0....\n",
      "743.1063973903656 seconds been spent..\n",
      "grid1....\n",
      "1457.267662525177 seconds been spent..\n",
      "grid2....\n",
      "2169.1247889995575 seconds been spent..\n",
      "grid3....\n",
      "2883.6471316814423 seconds been spent..\n",
      "grid4....\n",
      "3594.036435365677 seconds been spent..\n",
      "grid5....\n",
      "4302.473525524139 seconds been spent..\n",
      "grid6....\n",
      "5020.856812238693 seconds been spent..\n",
      "grid7....\n",
      "5728.580360412598 seconds been spent..\n",
      "grid8....\n",
      "6438.549884796143 seconds been spent..\n",
      "grid9....\n",
      "7151.816250324249 seconds been spent..\n",
      "grid10....\n",
      "7870.174619913101 seconds been spent..\n",
      "grid11....\n",
      "8580.06586265564 seconds been spent..\n",
      "grid12....\n",
      "9279.760694503784 seconds been spent..\n",
      "grid13....\n",
      "9818.911086797714 seconds been spent..\n",
      "grid14....\n",
      "10355.107087373734 seconds been spent..\n",
      "grid15....\n",
      "10890.59845995903 seconds been spent..\n",
      "grid16....\n",
      "11425.700184106827 seconds been spent..\n",
      "grid17....\n",
      "11962.636867284775 seconds been spent..\n",
      "grid18....\n",
      "12497.981522083282 seconds been spent..\n",
      "grid19....\n",
      "13030.814559459686 seconds been spent..\n",
      "grid20....\n",
      "13562.40115571022 seconds been spent..\n",
      "grid21....\n",
      "14095.061449050903 seconds been spent..\n",
      "grid22....\n",
      "14631.95492529869 seconds been spent..\n",
      "grid23....\n",
      "15169.853720664978 seconds been spent..\n",
      "grid24....\n",
      "15702.847407579422 seconds been spent..\n",
      "grid25....\n",
      "16235.758534669876 seconds been spent..\n",
      "grid26....\n",
      "16770.085160017014 seconds been spent..\n",
      "grid27....\n",
      "17302.735284090042 seconds been spent..\n",
      "grid28....\n",
      "17832.848728895187 seconds been spent..\n",
      "grid29....\n",
      "18365.576456546783 seconds been spent..\n",
      "grid30....\n",
      "18892.91414642334 seconds been spent..\n",
      "grid31....\n",
      "19420.110467910767 seconds been spent..\n",
      "grid32....\n",
      "19946.59724164009 seconds been spent..\n",
      "grid33....\n",
      "20477.315186023712 seconds been spent..\n",
      "grid34....\n",
      "20998.063994169235 seconds been spent..\n",
      "grid35....\n",
      "21522.36788225174 seconds been spent..\n",
      "grid36....\n",
      "22044.38704609871 seconds been spent..\n",
      "grid37....\n",
      "22563.11273908615 seconds been spent..\n",
      "grid38....\n",
      "23078.664177179337 seconds been spent..\n",
      "grid39....\n",
      "23589.799669981003 seconds been spent..\n",
      "grid40....\n",
      "24097.767612457275 seconds been spent..\n",
      "grid41....\n",
      "24614.55967068672 seconds been spent..\n",
      "grid42....\n",
      "25139.170172691345 seconds been spent..\n",
      "grid43....\n",
      "25657.71459531784 seconds been spent..\n",
      "grid44....\n",
      "26173.22969532013 seconds been spent..\n",
      "grid45....\n",
      "26689.67836546898 seconds been spent..\n",
      "grid46....\n",
      "27212.15109038353 seconds been spent..\n",
      "grid47....\n",
      "27730.519317150116 seconds been spent..\n",
      "grid48....\n",
      "28243.658645629883 seconds been spent..\n",
      "grid49....\n",
      "28764.416249752045 seconds been spent..\n",
      "grid50....\n",
      "29278.872089147568 seconds been spent..\n",
      "grid51....\n",
      "29789.728484153748 seconds been spent..\n",
      "grid52....\n",
      "30303.41890501976 seconds been spent..\n",
      "grid53....\n",
      "30817.87494277954 seconds been spent..\n",
      "grid54....\n",
      "31331.982043743134 seconds been spent..\n",
      "grid55....\n",
      "31842.930734872818 seconds been spent..\n",
      "grid56....\n",
      "32353.296434879303 seconds been spent..\n",
      "grid57....\n",
      "32865.78871870041 seconds been spent..\n",
      "grid58....\n",
      "33379.0136346817 seconds been spent..\n",
      "grid59....\n",
      "33888.13968706131 seconds been spent..\n",
      "grid60....\n",
      "34396.73302912712 seconds been spent..\n",
      "grid61....\n",
      "34909.28597784042 seconds been spent..\n",
      "grid62....\n",
      "35420.34029221535 seconds been spent..\n",
      "grid63....\n"
     ]
    }
   ],
   "source": [
    "wei = buildGraph.build(data_4070)\n",
    "np.save('dtw_matrix_{}.npy'.format(10804070), wei)"
   ]
  },
  {
   "cell_type": "code",
   "execution_count": null,
   "metadata": {},
   "outputs": [],
   "source": []
  }
 ],
 "metadata": {
  "kernelspec": {
   "display_name": "Python 3",
   "language": "python",
   "name": "python3"
  },
  "language_info": {
   "codemirror_mode": {
    "name": "ipython",
    "version": 3
   },
   "file_extension": ".py",
   "mimetype": "text/x-python",
   "name": "python",
   "nbconvert_exporter": "python",
   "pygments_lexer": "ipython3",
   "version": "3.6.5"
  }
 },
 "nbformat": 4,
 "nbformat_minor": 2
}

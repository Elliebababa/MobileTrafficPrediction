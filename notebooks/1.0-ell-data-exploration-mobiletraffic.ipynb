{
 "cells": [
  {
   "cell_type": "code",
   "execution_count": 1,
   "metadata": {
    "collapsed": true
   },
   "outputs": [],
   "source": [
    "import pandas as pd\n",
    "import numpy as np\n",
    "from os import walk"
   ]
  },
  {
   "cell_type": "code",
   "execution_count": 2,
   "metadata": {
    "collapsed": true
   },
   "outputs": [],
   "source": [
    "names = ['squareId','timeInterval','countryCode','smsIn','smsOut','callIn','callOut','Internet']"
   ]
  },
  {
   "cell_type": "code",
   "execution_count": 3,
   "metadata": {
    "collapsed": true
   },
   "outputs": [],
   "source": [
    "def readDir(dir_,names):\n",
    "    #used to read all raw txt the files in a dir and return list of panda DataFrames\n",
    "    #input dirpath and headers for dataFrames\n",
    "    #output list of dataFrames\n",
    "    result = []\n",
    "    for _,_,file in walk(dir_):\n",
    "        for f in file:\n",
    "            data = pd.read_table(dir_+'/'+f,names = names)\n",
    "            result.append(data)\n",
    "    print('Reading Finished. There are '+str(len(result))+' files in all.')\n",
    "    return result"
   ]
  },
  {
   "cell_type": "code",
   "execution_count": 6,
   "metadata": {},
   "outputs": [
    {
     "name": "stdout",
     "output_type": "stream",
     "text": [
      "Reading Finished. There are 30 files in all.\n"
     ]
    }
   ],
   "source": [
    "Nov = readDir('../data/raw/Nov',names)"
   ]
  },
  {
   "cell_type": "code",
   "execution_count": 7,
   "metadata": {},
   "outputs": [
    {
     "name": "stdout",
     "output_type": "stream",
     "text": [
      "Reading Finished. There are 32 files in all.\n"
     ]
    }
   ],
   "source": [
    "Dec = readDir('../data/raw/Dec',names)"
   ]
  },
  {
   "cell_type": "code",
   "execution_count": 8,
   "metadata": {},
   "outputs": [
    {
     "data": {
      "text/plain": [
       "(4745086, 8)"
      ]
     },
     "execution_count": 8,
     "metadata": {},
     "output_type": "execute_result"
    }
   ],
   "source": [
    "#shape of one sheet\n",
    "Nov[1].shape"
   ]
  },
  {
   "cell_type": "code",
   "execution_count": 21,
   "metadata": {
    "collapsed": true
   },
   "outputs": [],
   "source": [
    "#check missing interval\n",
    "t = list(set(Nov[0].timeInterval))\n",
    "t.sort()\n",
    "for i,n in enumerate(t[1:]):\n",
    "    #print(i,n,t[1:][i-1])\n",
    "    if not n == t[1:][i-1]+600000:\n",
    "        print(i,'missing ',t[i-1]+600000)"
   ]
  },
  {
   "cell_type": "code",
   "execution_count": 61,
   "metadata": {},
   "outputs": [
    {
     "name": "stdout",
     "output_type": "stream",
     "text": [
      "      squareId   timeInterval  countryCode     smsIn    smsOut    callIn  \\\n",
      "0            1  1383260400000            0  0.081363       NaN       NaN   \n",
      "1            1  1383260400000           39  0.141864  0.156787  0.160938   \n",
      "2            1  1383261000000            0  0.136588       NaN       NaN   \n",
      "3            1  1383261000000           33       NaN       NaN       NaN   \n",
      "4            1  1383261000000           39  0.278452  0.119926  0.188777   \n",
      "5            1  1383261600000            0  0.053438       NaN       NaN   \n",
      "6            1  1383261600000           39  0.330641  0.170952  0.134176   \n",
      "7            1  1383262200000            0  0.026137       NaN       NaN   \n",
      "8            1  1383262200000           39  0.681434  0.220815  0.027300   \n",
      "9            1  1383262800000            0  0.027300       NaN       NaN   \n",
      "10           1  1383262800000           39  0.243378  0.192891  0.053438   \n",
      "11           1  1383263400000            0  0.027300       NaN       NaN   \n",
      "12           1  1383263400000           39  0.056388  0.243378  0.027300   \n",
      "13           1  1383264000000            0  0.029712       NaN       NaN   \n",
      "14           1  1383264000000           39  0.135339  0.084937  0.053438   \n",
      "15           1  1383264600000            0  0.027300       NaN       NaN   \n",
      "16           1  1383264600000           39  0.188777  0.026137  0.001787   \n",
      "17           1  1383265200000           39  0.242215  0.160314  0.108039   \n",
      "18           1  1383265800000            0  0.027300       NaN       NaN   \n",
      "19           1  1383265800000           39  0.294490  0.245704  0.027300   \n",
      "20           1  1383266400000            0  0.026137       NaN       NaN   \n",
      "21           1  1383266400000           39  0.108039  0.108039       NaN   \n",
      "22           1  1383267000000            0  0.027300       NaN       NaN   \n",
      "23           1  1383267000000           39  0.057013  0.144900       NaN   \n",
      "24           1  1383267600000           39  0.139538  0.055225       NaN   \n",
      "25           1  1383268200000           39       NaN  0.053438       NaN   \n",
      "26           1  1383268800000           39  0.027300  0.054601  0.027925   \n",
      "27           1  1383269400000            0  0.027300       NaN       NaN   \n",
      "28           1  1383269400000           39  0.059963  0.056388       NaN   \n",
      "29           1  1383270000000           39  0.134176  0.053438       NaN   \n",
      "...        ...            ...          ...       ...       ...       ...   \n",
      "995          1  1383510600000           39  0.651979  0.492204  0.248201   \n",
      "996          1  1383511200000            0  0.191728       NaN       NaN   \n",
      "997          1  1383511200000          359       NaN  0.027300       NaN   \n",
      "998          1  1383511200000           39  0.563515  0.507212  0.379342   \n",
      "999          1  1383511800000            0  0.053438       NaN       NaN   \n",
      "1000         1  1383511800000           39  0.279162  0.355787  0.164427   \n",
      "1001         1  1383512400000            0  0.058176       NaN       NaN   \n",
      "1002         1  1383512400000           39  0.546976  0.575978  0.029712   \n",
      "1003         1  1383513000000            0  0.160314       NaN       NaN   \n",
      "1004         1  1383513000000           39  1.189761  1.368145  0.188238   \n",
      "1005         1  1383513600000            0  0.080738       NaN       NaN   \n",
      "1006         1  1383513600000           39  0.462492  0.378803  0.187614   \n",
      "1007         1  1383514200000            0  0.080738       NaN       NaN   \n",
      "1008         1  1383514200000           39  0.569282  0.354992  0.054062   \n",
      "1009         1  1383514800000            0  0.003575       NaN       NaN   \n",
      "1010         1  1383514800000           39  0.545556  0.412004  0.026137   \n",
      "1011         1  1383515400000            0  0.027300       NaN       NaN   \n",
      "1012         1  1383515400000           39  0.596044  0.220277  0.087888   \n",
      "1013         1  1383516000000           39  1.240163  0.545017  0.215539   \n",
      "1014         1  1383516600000           39  0.355530  0.593632       NaN   \n",
      "1015         1  1383516600000           44  0.027300  0.027300       NaN   \n",
      "1016         1  1383517200000            0  0.029088       NaN       NaN   \n",
      "1017         1  1383517200000           39  0.243378  0.541357  0.052275   \n",
      "1018         1  1383517800000            0  0.027300       NaN       NaN   \n",
      "1019         1  1383517800000           39  0.054601  0.136502  0.054062   \n",
      "1020         1  1383517800000           44  0.027300  0.027300       NaN   \n",
      "1021         1  1383518400000            0  0.027300       NaN       NaN   \n",
      "1022         1  1383518400000           39  0.136502  0.054601  0.001787   \n",
      "1023         1  1383519000000            0  0.078412       NaN       NaN   \n",
      "1024         1  1383519000000           39  0.133013  0.133013  0.026137   \n",
      "\n",
      "       callOut   Internet  \n",
      "0          NaN        NaN  \n",
      "1     0.052275  11.028366  \n",
      "2     0.027300        NaN  \n",
      "3          NaN   0.026137  \n",
      "4     0.133637  11.100963  \n",
      "5          NaN        NaN  \n",
      "6     0.054601  10.892771  \n",
      "7          NaN        NaN  \n",
      "8     0.053438   8.622425  \n",
      "9          NaN        NaN  \n",
      "10    0.080738   8.009927  \n",
      "11         NaN        NaN  \n",
      "12    0.027300   8.118420  \n",
      "13    0.003575        NaN  \n",
      "14    0.001787   8.026270  \n",
      "15         NaN        NaN  \n",
      "16    0.054601   8.514179  \n",
      "17    0.026137   6.833425  \n",
      "18    0.027300        NaN  \n",
      "19    0.080738   6.554605  \n",
      "20         NaN        NaN  \n",
      "21         NaN   7.338716  \n",
      "22         NaN        NaN  \n",
      "23         NaN   6.779705  \n",
      "24         NaN   7.192162  \n",
      "25    0.027300   7.503314  \n",
      "26         NaN   6.169534  \n",
      "27         NaN        NaN  \n",
      "28    0.029088   7.605452  \n",
      "29    0.053438   6.569565  \n",
      "...        ...        ...  \n",
      "995   0.166839  13.834324  \n",
      "996        NaN        NaN  \n",
      "997        NaN        NaN  \n",
      "998   0.245790  12.653671  \n",
      "999        NaN        NaN  \n",
      "1000  0.431078  11.837255  \n",
      "1001       NaN        NaN  \n",
      "1002  0.189940  11.942109  \n",
      "1003       NaN        NaN  \n",
      "1004  0.212050  12.552819  \n",
      "1005       NaN        NaN  \n",
      "1006  0.134176  13.288122  \n",
      "1007       NaN        NaN  \n",
      "1008  0.081901  10.826551  \n",
      "1009  0.027300        NaN  \n",
      "1010  0.082526   9.599181  \n",
      "1011       NaN        NaN  \n",
      "1012  0.056388  10.102685  \n",
      "1013  0.109826   9.192550  \n",
      "1014  0.054601  10.798823  \n",
      "1015       NaN        NaN  \n",
      "1016       NaN        NaN  \n",
      "1017  0.027925   9.476305  \n",
      "1018       NaN        NaN  \n",
      "1019  0.081363  12.602686  \n",
      "1020       NaN        NaN  \n",
      "1021       NaN        NaN  \n",
      "1022  0.052275   8.938475  \n",
      "1023       NaN        NaN  \n",
      "1024  0.105713   9.975573  \n",
      "\n",
      "[1025 rows x 8 columns]\n"
     ]
    }
   ],
   "source": [
    "gridNum = 2\n",
    "for i in range(1,gridNum):\n",
    "    gridData = pd.DataFrame()\n",
    "    for sheet in Nov[:3]:\n",
    "        tmp = sheet[sheet['squareId'] == i]\n",
    "        gridData = pd.concat([gridData,tmp],axis = 0).reset_index(drop = True)\n",
    "    print(gridData)"
   ]
  },
  {
   "cell_type": "code",
   "execution_count": 16,
   "metadata": {},
   "outputs": [],
   "source": [
    "import sys\n",
    "sys.path.append(\"..\")\n",
    "from src.data import make_dataset"
   ]
  },
  {
   "cell_type": "code",
   "execution_count": 17,
   "metadata": {},
   "outputs": [
    {
     "ename": "UnsupportedOperation",
     "evalue": "not writable",
     "output_type": "error",
     "traceback": [
      "\u001b[1;31m---------------------------------------------------------------------------\u001b[0m",
      "\u001b[1;31mNoSuchOption\u001b[0m                              Traceback (most recent call last)",
      "\u001b[1;32mC:\\ProgramData\\Anaconda3\\lib\\site-packages\\click\\parser.py\u001b[0m in \u001b[0;36m_process_opts\u001b[1;34m(self, arg, state)\u001b[0m\n\u001b[0;32m    413\u001b[0m         \u001b[1;32mtry\u001b[0m\u001b[1;33m:\u001b[0m\u001b[1;33m\u001b[0m\u001b[0m\n\u001b[1;32m--> 414\u001b[1;33m             \u001b[0mself\u001b[0m\u001b[1;33m.\u001b[0m\u001b[0m_match_long_opt\u001b[0m\u001b[1;33m(\u001b[0m\u001b[0mnorm_long_opt\u001b[0m\u001b[1;33m,\u001b[0m \u001b[0mexplicit_value\u001b[0m\u001b[1;33m,\u001b[0m \u001b[0mstate\u001b[0m\u001b[1;33m)\u001b[0m\u001b[1;33m\u001b[0m\u001b[0m\n\u001b[0m\u001b[0;32m    415\u001b[0m         \u001b[1;32mexcept\u001b[0m \u001b[0mNoSuchOption\u001b[0m\u001b[1;33m:\u001b[0m\u001b[1;33m\u001b[0m\u001b[0m\n",
      "\u001b[1;32mC:\\ProgramData\\Anaconda3\\lib\\site-packages\\click\\parser.py\u001b[0m in \u001b[0;36m_match_long_opt\u001b[1;34m(self, opt, explicit_value, state)\u001b[0m\n\u001b[0;32m    323\u001b[0m                              if word.startswith(opt)]\n\u001b[1;32m--> 324\u001b[1;33m             \u001b[1;32mraise\u001b[0m \u001b[0mNoSuchOption\u001b[0m\u001b[1;33m(\u001b[0m\u001b[0mopt\u001b[0m\u001b[1;33m,\u001b[0m \u001b[0mpossibilities\u001b[0m\u001b[1;33m=\u001b[0m\u001b[0mpossibilities\u001b[0m\u001b[1;33m)\u001b[0m\u001b[1;33m\u001b[0m\u001b[0m\n\u001b[0m\u001b[0;32m    325\u001b[0m \u001b[1;33m\u001b[0m\u001b[0m\n",
      "\u001b[1;31mNoSuchOption\u001b[0m: no such option: -f",
      "\nDuring handling of the above exception, another exception occurred:\n",
      "\u001b[1;31mNoSuchOption\u001b[0m                              Traceback (most recent call last)",
      "\u001b[1;32mC:\\ProgramData\\Anaconda3\\lib\\site-packages\\click\\core.py\u001b[0m in \u001b[0;36mmain\u001b[1;34m(self, args, prog_name, complete_var, standalone_mode, **extra)\u001b[0m\n\u001b[0;32m    695\u001b[0m             \u001b[1;32mtry\u001b[0m\u001b[1;33m:\u001b[0m\u001b[1;33m\u001b[0m\u001b[0m\n\u001b[1;32m--> 696\u001b[1;33m                 \u001b[1;32mwith\u001b[0m \u001b[0mself\u001b[0m\u001b[1;33m.\u001b[0m\u001b[0mmake_context\u001b[0m\u001b[1;33m(\u001b[0m\u001b[0mprog_name\u001b[0m\u001b[1;33m,\u001b[0m \u001b[0margs\u001b[0m\u001b[1;33m,\u001b[0m \u001b[1;33m**\u001b[0m\u001b[0mextra\u001b[0m\u001b[1;33m)\u001b[0m \u001b[1;32mas\u001b[0m \u001b[0mctx\u001b[0m\u001b[1;33m:\u001b[0m\u001b[1;33m\u001b[0m\u001b[0m\n\u001b[0m\u001b[0;32m    697\u001b[0m                     \u001b[0mrv\u001b[0m \u001b[1;33m=\u001b[0m \u001b[0mself\u001b[0m\u001b[1;33m.\u001b[0m\u001b[0minvoke\u001b[0m\u001b[1;33m(\u001b[0m\u001b[0mctx\u001b[0m\u001b[1;33m)\u001b[0m\u001b[1;33m\u001b[0m\u001b[0m\n",
      "\u001b[1;32mC:\\ProgramData\\Anaconda3\\lib\\site-packages\\click\\core.py\u001b[0m in \u001b[0;36mmake_context\u001b[1;34m(self, info_name, args, parent, **extra)\u001b[0m\n\u001b[0;32m    620\u001b[0m         \u001b[1;32mwith\u001b[0m \u001b[0mctx\u001b[0m\u001b[1;33m.\u001b[0m\u001b[0mscope\u001b[0m\u001b[1;33m(\u001b[0m\u001b[0mcleanup\u001b[0m\u001b[1;33m=\u001b[0m\u001b[1;32mFalse\u001b[0m\u001b[1;33m)\u001b[0m\u001b[1;33m:\u001b[0m\u001b[1;33m\u001b[0m\u001b[0m\n\u001b[1;32m--> 621\u001b[1;33m             \u001b[0mself\u001b[0m\u001b[1;33m.\u001b[0m\u001b[0mparse_args\u001b[0m\u001b[1;33m(\u001b[0m\u001b[0mctx\u001b[0m\u001b[1;33m,\u001b[0m \u001b[0margs\u001b[0m\u001b[1;33m)\u001b[0m\u001b[1;33m\u001b[0m\u001b[0m\n\u001b[0m\u001b[0;32m    622\u001b[0m         \u001b[1;32mreturn\u001b[0m \u001b[0mctx\u001b[0m\u001b[1;33m\u001b[0m\u001b[0m\n",
      "\u001b[1;32mC:\\ProgramData\\Anaconda3\\lib\\site-packages\\click\\core.py\u001b[0m in \u001b[0;36mparse_args\u001b[1;34m(self, ctx, args)\u001b[0m\n\u001b[0;32m    875\u001b[0m         \u001b[0mparser\u001b[0m \u001b[1;33m=\u001b[0m \u001b[0mself\u001b[0m\u001b[1;33m.\u001b[0m\u001b[0mmake_parser\u001b[0m\u001b[1;33m(\u001b[0m\u001b[0mctx\u001b[0m\u001b[1;33m)\u001b[0m\u001b[1;33m\u001b[0m\u001b[0m\n\u001b[1;32m--> 876\u001b[1;33m         \u001b[0mopts\u001b[0m\u001b[1;33m,\u001b[0m \u001b[0margs\u001b[0m\u001b[1;33m,\u001b[0m \u001b[0mparam_order\u001b[0m \u001b[1;33m=\u001b[0m \u001b[0mparser\u001b[0m\u001b[1;33m.\u001b[0m\u001b[0mparse_args\u001b[0m\u001b[1;33m(\u001b[0m\u001b[0margs\u001b[0m\u001b[1;33m=\u001b[0m\u001b[0margs\u001b[0m\u001b[1;33m)\u001b[0m\u001b[1;33m\u001b[0m\u001b[0m\n\u001b[0m\u001b[0;32m    877\u001b[0m \u001b[1;33m\u001b[0m\u001b[0m\n",
      "\u001b[1;32mC:\\ProgramData\\Anaconda3\\lib\\site-packages\\click\\parser.py\u001b[0m in \u001b[0;36mparse_args\u001b[1;34m(self, args)\u001b[0m\n\u001b[0;32m    266\u001b[0m         \u001b[1;32mtry\u001b[0m\u001b[1;33m:\u001b[0m\u001b[1;33m\u001b[0m\u001b[0m\n\u001b[1;32m--> 267\u001b[1;33m             \u001b[0mself\u001b[0m\u001b[1;33m.\u001b[0m\u001b[0m_process_args_for_options\u001b[0m\u001b[1;33m(\u001b[0m\u001b[0mstate\u001b[0m\u001b[1;33m)\u001b[0m\u001b[1;33m\u001b[0m\u001b[0m\n\u001b[0m\u001b[0;32m    268\u001b[0m             \u001b[0mself\u001b[0m\u001b[1;33m.\u001b[0m\u001b[0m_process_args_for_args\u001b[0m\u001b[1;33m(\u001b[0m\u001b[0mstate\u001b[0m\u001b[1;33m)\u001b[0m\u001b[1;33m\u001b[0m\u001b[0m\n",
      "\u001b[1;32mC:\\ProgramData\\Anaconda3\\lib\\site-packages\\click\\parser.py\u001b[0m in \u001b[0;36m_process_args_for_options\u001b[1;34m(self, state)\u001b[0m\n\u001b[0;32m    292\u001b[0m             \u001b[1;32melif\u001b[0m \u001b[0marg\u001b[0m\u001b[1;33m[\u001b[0m\u001b[1;33m:\u001b[0m\u001b[1;36m1\u001b[0m\u001b[1;33m]\u001b[0m \u001b[1;32min\u001b[0m \u001b[0mself\u001b[0m\u001b[1;33m.\u001b[0m\u001b[0m_opt_prefixes\u001b[0m \u001b[1;32mand\u001b[0m \u001b[0marglen\u001b[0m \u001b[1;33m>\u001b[0m \u001b[1;36m1\u001b[0m\u001b[1;33m:\u001b[0m\u001b[1;33m\u001b[0m\u001b[0m\n\u001b[1;32m--> 293\u001b[1;33m                 \u001b[0mself\u001b[0m\u001b[1;33m.\u001b[0m\u001b[0m_process_opts\u001b[0m\u001b[1;33m(\u001b[0m\u001b[0marg\u001b[0m\u001b[1;33m,\u001b[0m \u001b[0mstate\u001b[0m\u001b[1;33m)\u001b[0m\u001b[1;33m\u001b[0m\u001b[0m\n\u001b[0m\u001b[0;32m    294\u001b[0m             \u001b[1;32melif\u001b[0m \u001b[0mself\u001b[0m\u001b[1;33m.\u001b[0m\u001b[0mallow_interspersed_args\u001b[0m\u001b[1;33m:\u001b[0m\u001b[1;33m\u001b[0m\u001b[0m\n",
      "\u001b[1;32mC:\\ProgramData\\Anaconda3\\lib\\site-packages\\click\\parser.py\u001b[0m in \u001b[0;36m_process_opts\u001b[1;34m(self, arg, state)\u001b[0m\n\u001b[0;32m    422\u001b[0m             \u001b[1;32mif\u001b[0m \u001b[0marg\u001b[0m\u001b[1;33m[\u001b[0m\u001b[1;33m:\u001b[0m\u001b[1;36m2\u001b[0m\u001b[1;33m]\u001b[0m \u001b[1;32mnot\u001b[0m \u001b[1;32min\u001b[0m \u001b[0mself\u001b[0m\u001b[1;33m.\u001b[0m\u001b[0m_opt_prefixes\u001b[0m\u001b[1;33m:\u001b[0m\u001b[1;33m\u001b[0m\u001b[0m\n\u001b[1;32m--> 423\u001b[1;33m                 \u001b[1;32mreturn\u001b[0m \u001b[0mself\u001b[0m\u001b[1;33m.\u001b[0m\u001b[0m_match_short_opt\u001b[0m\u001b[1;33m(\u001b[0m\u001b[0marg\u001b[0m\u001b[1;33m,\u001b[0m \u001b[0mstate\u001b[0m\u001b[1;33m)\u001b[0m\u001b[1;33m\u001b[0m\u001b[0m\n\u001b[0m\u001b[0;32m    424\u001b[0m             \u001b[1;32mif\u001b[0m \u001b[1;32mnot\u001b[0m \u001b[0mself\u001b[0m\u001b[1;33m.\u001b[0m\u001b[0mignore_unknown_options\u001b[0m\u001b[1;33m:\u001b[0m\u001b[1;33m\u001b[0m\u001b[0m\n",
      "\u001b[1;32mC:\\ProgramData\\Anaconda3\\lib\\site-packages\\click\\parser.py\u001b[0m in \u001b[0;36m_match_short_opt\u001b[1;34m(self, arg, state)\u001b[0m\n\u001b[0;32m    366\u001b[0m                     \u001b[1;32mcontinue\u001b[0m\u001b[1;33m\u001b[0m\u001b[0m\n\u001b[1;32m--> 367\u001b[1;33m                 \u001b[1;32mraise\u001b[0m \u001b[0mNoSuchOption\u001b[0m\u001b[1;33m(\u001b[0m\u001b[0mopt\u001b[0m\u001b[1;33m)\u001b[0m\u001b[1;33m\u001b[0m\u001b[0m\n\u001b[0m\u001b[0;32m    368\u001b[0m             \u001b[1;32mif\u001b[0m \u001b[0moption\u001b[0m\u001b[1;33m.\u001b[0m\u001b[0mtakes_value\u001b[0m\u001b[1;33m:\u001b[0m\u001b[1;33m\u001b[0m\u001b[0m\n",
      "\u001b[1;31mNoSuchOption\u001b[0m: no such option: -f",
      "\nDuring handling of the above exception, another exception occurred:\n",
      "\u001b[1;31mUnsupportedOperation\u001b[0m                      Traceback (most recent call last)",
      "\u001b[1;32m<ipython-input-17-52e208fef7cf>\u001b[0m in \u001b[0;36m<module>\u001b[1;34m()\u001b[0m\n\u001b[1;32m----> 1\u001b[1;33m \u001b[0mmake_dataset\u001b[0m\u001b[1;33m.\u001b[0m\u001b[0mtest\u001b[0m\u001b[1;33m(\u001b[0m\u001b[1;33m)\u001b[0m\u001b[1;33m\u001b[0m\u001b[0m\n\u001b[0m",
      "\u001b[1;32mC:\\ProgramData\\Anaconda3\\lib\\site-packages\\click\\core.py\u001b[0m in \u001b[0;36m__call__\u001b[1;34m(self, *args, **kwargs)\u001b[0m\n\u001b[0;32m    720\u001b[0m     \u001b[1;32mdef\u001b[0m \u001b[0m__call__\u001b[0m\u001b[1;33m(\u001b[0m\u001b[0mself\u001b[0m\u001b[1;33m,\u001b[0m \u001b[1;33m*\u001b[0m\u001b[0margs\u001b[0m\u001b[1;33m,\u001b[0m \u001b[1;33m**\u001b[0m\u001b[0mkwargs\u001b[0m\u001b[1;33m)\u001b[0m\u001b[1;33m:\u001b[0m\u001b[1;33m\u001b[0m\u001b[0m\n\u001b[0;32m    721\u001b[0m         \u001b[1;34m\"\"\"Alias for :meth:`main`.\"\"\"\u001b[0m\u001b[1;33m\u001b[0m\u001b[0m\n\u001b[1;32m--> 722\u001b[1;33m         \u001b[1;32mreturn\u001b[0m \u001b[0mself\u001b[0m\u001b[1;33m.\u001b[0m\u001b[0mmain\u001b[0m\u001b[1;33m(\u001b[0m\u001b[1;33m*\u001b[0m\u001b[0margs\u001b[0m\u001b[1;33m,\u001b[0m \u001b[1;33m**\u001b[0m\u001b[0mkwargs\u001b[0m\u001b[1;33m)\u001b[0m\u001b[1;33m\u001b[0m\u001b[0m\n\u001b[0m\u001b[0;32m    723\u001b[0m \u001b[1;33m\u001b[0m\u001b[0m\n\u001b[0;32m    724\u001b[0m \u001b[1;33m\u001b[0m\u001b[0m\n",
      "\u001b[1;32mC:\\ProgramData\\Anaconda3\\lib\\site-packages\\click\\core.py\u001b[0m in \u001b[0;36mmain\u001b[1;34m(self, args, prog_name, complete_var, standalone_mode, **extra)\u001b[0m\n\u001b[0;32m    705\u001b[0m                 \u001b[1;32mif\u001b[0m \u001b[1;32mnot\u001b[0m \u001b[0mstandalone_mode\u001b[0m\u001b[1;33m:\u001b[0m\u001b[1;33m\u001b[0m\u001b[0m\n\u001b[0;32m    706\u001b[0m                     \u001b[1;32mraise\u001b[0m\u001b[1;33m\u001b[0m\u001b[0m\n\u001b[1;32m--> 707\u001b[1;33m                 \u001b[0me\u001b[0m\u001b[1;33m.\u001b[0m\u001b[0mshow\u001b[0m\u001b[1;33m(\u001b[0m\u001b[1;33m)\u001b[0m\u001b[1;33m\u001b[0m\u001b[0m\n\u001b[0m\u001b[0;32m    708\u001b[0m                 \u001b[0msys\u001b[0m\u001b[1;33m.\u001b[0m\u001b[0mexit\u001b[0m\u001b[1;33m(\u001b[0m\u001b[0me\u001b[0m\u001b[1;33m.\u001b[0m\u001b[0mexit_code\u001b[0m\u001b[1;33m)\u001b[0m\u001b[1;33m\u001b[0m\u001b[0m\n\u001b[0;32m    709\u001b[0m             \u001b[1;32mexcept\u001b[0m \u001b[0mIOError\u001b[0m \u001b[1;32mas\u001b[0m \u001b[0me\u001b[0m\u001b[1;33m:\u001b[0m\u001b[1;33m\u001b[0m\u001b[0m\n",
      "\u001b[1;32mC:\\ProgramData\\Anaconda3\\lib\\site-packages\\click\\exceptions.py\u001b[0m in \u001b[0;36mshow\u001b[1;34m(self, file)\u001b[0m\n\u001b[0;32m     46\u001b[0m             \u001b[0mcolor\u001b[0m \u001b[1;33m=\u001b[0m \u001b[0mself\u001b[0m\u001b[1;33m.\u001b[0m\u001b[0mctx\u001b[0m\u001b[1;33m.\u001b[0m\u001b[0mcolor\u001b[0m\u001b[1;33m\u001b[0m\u001b[0m\n\u001b[0;32m     47\u001b[0m             \u001b[0mecho\u001b[0m\u001b[1;33m(\u001b[0m\u001b[0mself\u001b[0m\u001b[1;33m.\u001b[0m\u001b[0mctx\u001b[0m\u001b[1;33m.\u001b[0m\u001b[0mget_usage\u001b[0m\u001b[1;33m(\u001b[0m\u001b[1;33m)\u001b[0m \u001b[1;33m+\u001b[0m \u001b[1;34m'\\n'\u001b[0m\u001b[1;33m,\u001b[0m \u001b[0mfile\u001b[0m\u001b[1;33m=\u001b[0m\u001b[0mfile\u001b[0m\u001b[1;33m,\u001b[0m \u001b[0mcolor\u001b[0m\u001b[1;33m=\u001b[0m\u001b[0mcolor\u001b[0m\u001b[1;33m)\u001b[0m\u001b[1;33m\u001b[0m\u001b[0m\n\u001b[1;32m---> 48\u001b[1;33m         \u001b[0mecho\u001b[0m\u001b[1;33m(\u001b[0m\u001b[1;34m'Error: %s'\u001b[0m \u001b[1;33m%\u001b[0m \u001b[0mself\u001b[0m\u001b[1;33m.\u001b[0m\u001b[0mformat_message\u001b[0m\u001b[1;33m(\u001b[0m\u001b[1;33m)\u001b[0m\u001b[1;33m,\u001b[0m \u001b[0mfile\u001b[0m\u001b[1;33m=\u001b[0m\u001b[0mfile\u001b[0m\u001b[1;33m,\u001b[0m \u001b[0mcolor\u001b[0m\u001b[1;33m=\u001b[0m\u001b[0mcolor\u001b[0m\u001b[1;33m)\u001b[0m\u001b[1;33m\u001b[0m\u001b[0m\n\u001b[0m\u001b[0;32m     49\u001b[0m \u001b[1;33m\u001b[0m\u001b[0m\n\u001b[0;32m     50\u001b[0m \u001b[1;33m\u001b[0m\u001b[0m\n",
      "\u001b[1;32mC:\\ProgramData\\Anaconda3\\lib\\site-packages\\click\\utils.py\u001b[0m in \u001b[0;36mecho\u001b[1;34m(message, file, nl, err, color)\u001b[0m\n\u001b[0;32m    257\u001b[0m \u001b[1;33m\u001b[0m\u001b[0m\n\u001b[0;32m    258\u001b[0m     \u001b[1;32mif\u001b[0m \u001b[0mmessage\u001b[0m\u001b[1;33m:\u001b[0m\u001b[1;33m\u001b[0m\u001b[0m\n\u001b[1;32m--> 259\u001b[1;33m         \u001b[0mfile\u001b[0m\u001b[1;33m.\u001b[0m\u001b[0mwrite\u001b[0m\u001b[1;33m(\u001b[0m\u001b[0mmessage\u001b[0m\u001b[1;33m)\u001b[0m\u001b[1;33m\u001b[0m\u001b[0m\n\u001b[0m\u001b[0;32m    260\u001b[0m     \u001b[0mfile\u001b[0m\u001b[1;33m.\u001b[0m\u001b[0mflush\u001b[0m\u001b[1;33m(\u001b[0m\u001b[1;33m)\u001b[0m\u001b[1;33m\u001b[0m\u001b[0m\n\u001b[0;32m    261\u001b[0m \u001b[1;33m\u001b[0m\u001b[0m\n",
      "\u001b[1;31mUnsupportedOperation\u001b[0m: not writable"
     ]
    }
   ],
   "source": [
    "make_dataset.test()"
   ]
  },
  {
   "cell_type": "code",
   "execution_count": null,
   "metadata": {
    "collapsed": true
   },
   "outputs": [],
   "source": []
  }
 ],
 "metadata": {
  "kernelspec": {
   "display_name": "Python 3",
   "language": "python",
   "name": "python3"
  },
  "language_info": {
   "codemirror_mode": {
    "name": "ipython",
    "version": 3
   },
   "file_extension": ".py",
   "mimetype": "text/x-python",
   "name": "python",
   "nbconvert_exporter": "python",
   "pygments_lexer": "ipython3",
   "version": "3.6.3"
  }
 },
 "nbformat": 4,
 "nbformat_minor": 2
}
